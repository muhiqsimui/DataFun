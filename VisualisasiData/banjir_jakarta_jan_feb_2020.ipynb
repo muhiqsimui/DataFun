{
  "nbformat": 4,
  "nbformat_minor": 0,
  "metadata": {
    "colab": {
      "name": "banjir_jakarta_jan_feb_2020.ipynb",
      "provenance": []
    },
    "kernelspec": {
      "name": "python3",
      "display_name": "Python 3"
    },
    "language_info": {
      "name": "python"
    }
  },
  "cells": [
    {
      "cell_type": "code",
      "metadata": {
        "colab": {
          "base_uri": "https://localhost:8080/"
        },
        "id": "GazthzSelVR0",
        "outputId": "0de041d4-303a-4665-da92-014f46c2b501"
      },
      "source": [
        "#ambil data bulan januari\n",
        "!wget https://data.jakarta.go.id/dataset/26ae6b299f962843c7e67e5e6421218b/resource/22b62d11e65072196c385de24b570d6f/download/Data-Kejadian-Bencana-Banjir-di-Provinsi-DKI-Jakarta-Tahun-2020-Bulan-Januari.csv"
      ],
      "execution_count": 6,
      "outputs": [
        {
          "output_type": "stream",
          "text": [
            "--2021-07-23 04:24:03--  https://data.jakarta.go.id/dataset/26ae6b299f962843c7e67e5e6421218b/resource/22b62d11e65072196c385de24b570d6f/download/Data-Kejadian-Bencana-Banjir-di-Provinsi-DKI-Jakarta-Tahun-2020-Bulan-Januari.csv\n",
            "Resolving data.jakarta.go.id (data.jakarta.go.id)... 103.209.7.34\n",
            "Connecting to data.jakarta.go.id (data.jakarta.go.id)|103.209.7.34|:443... connected.\n",
            "HTTP request sent, awaiting response... 200 OK\n",
            "Length: unspecified [text/x-comma-separated-values]\n",
            "Saving to: ‘Data-Kejadian-Bencana-Banjir-di-Provinsi-DKI-Jakarta-Tahun-2020-Bulan-Januari.csv’\n",
            "\n",
            "Data-Kejadian-Benca     [ <=>                ]  17.77K  97.1KB/s    in 0.2s    \n",
            "\n",
            "2021-07-23 04:24:04 (97.1 KB/s) - ‘Data-Kejadian-Bencana-Banjir-di-Provinsi-DKI-Jakarta-Tahun-2020-Bulan-Januari.csv’ saved [18200]\n",
            "\n"
          ],
          "name": "stdout"
        }
      ]
    },
    {
      "cell_type": "code",
      "metadata": {
        "colab": {
          "base_uri": "https://localhost:8080/"
        },
        "id": "tZnwCxhwyEzi",
        "outputId": "c9287aba-1ef1-46ea-f451-bb5f618a724d"
      },
      "source": [
        "#ambil data bulan februari\n",
        "!wget https://data.jakarta.go.id/dataset/26ae6b299f962843c7e67e5e6421218b/resource/fb9cc34edc46e7bcdf78b1a2df05ebf6/download/Data-Kejadian-Bencana-Banjir-di-Provinsi-DKI-Jakarta-Tahun-2020-Bulan-Februari.csv"
      ],
      "execution_count": 76,
      "outputs": [
        {
          "output_type": "stream",
          "text": [
            "--2021-07-23 05:14:13--  https://data.jakarta.go.id/dataset/26ae6b299f962843c7e67e5e6421218b/resource/fb9cc34edc46e7bcdf78b1a2df05ebf6/download/Data-Kejadian-Bencana-Banjir-di-Provinsi-DKI-Jakarta-Tahun-2020-Bulan-Februari.csv\n",
            "Resolving data.jakarta.go.id (data.jakarta.go.id)... 103.209.7.56\n",
            "Connecting to data.jakarta.go.id (data.jakarta.go.id)|103.209.7.56|:443... connected.\n",
            "HTTP request sent, awaiting response... 200 OK\n",
            "Length: unspecified [text/x-comma-separated-values]\n",
            "Saving to: ‘Data-Kejadian-Bencana-Banjir-di-Provinsi-DKI-Jakarta-Tahun-2020-Bulan-Februari.csv’\n",
            "\n",
            "Data-Kejadian-Benca     [ <=>                ]  18.65K   103KB/s    in 0.2s    \n",
            "\n",
            "2021-07-23 05:14:14 (103 KB/s) - ‘Data-Kejadian-Bencana-Banjir-di-Provinsi-DKI-Jakarta-Tahun-2020-Bulan-Februari.csv’ saved [19093]\n",
            "\n"
          ],
          "name": "stdout"
        }
      ]
    },
    {
      "cell_type": "code",
      "metadata": {
        "colab": {
          "base_uri": "https://localhost:8080/"
        },
        "id": "fdLF2XH6mzmZ",
        "outputId": "5becf196-b3dc-45b7-c5ed-bcdf3e72a59c"
      },
      "source": [
        "ls"
      ],
      "execution_count": 77,
      "outputs": [
        {
          "output_type": "stream",
          "text": [
            "Data-Kejadian-Bencana-Banjir-di-Provinsi-DKI-Jakarta-Tahun-2020-Bulan-Februari.csv\n",
            "Data-Kejadian-Bencana-Banjir-di-Provinsi-DKI-Jakarta-Tahun-2020-Bulan-Januari.csv\n",
            "\u001b[0m\u001b[01;34msample_data\u001b[0m/\n"
          ],
          "name": "stdout"
        }
      ]
    },
    {
      "cell_type": "code",
      "metadata": {
        "colab": {
          "base_uri": "https://localhost:8080/"
        },
        "id": "U-mZAlHZm2OO",
        "outputId": "9341ccb5-24c7-466c-b35a-a61f380db8e3"
      },
      "source": [
        "import pandas as pd\n",
        "import matplotlib.pyplot as plt\n",
        "\n",
        "df=pd.read_csv('/content/Data-Kejadian-Bencana-Banjir-di-Provinsi-DKI-Jakarta-Tahun-2020-Bulan-Januari.csv')\n",
        "df.info()"
      ],
      "execution_count": 9,
      "outputs": [
        {
          "output_type": "stream",
          "text": [
            "<class 'pandas.core.frame.DataFrame'>\n",
            "RangeIndex: 150 entries, 0 to 149\n",
            "Data columns (total 18 columns):\n",
            " #   Column                      Non-Null Count  Dtype \n",
            "---  ------                      --------------  ----- \n",
            " 0   kota_administrasi           150 non-null    object\n",
            " 1   kecamatan                   150 non-null    object\n",
            " 2   kelurahan                   150 non-null    object\n",
            " 3   rw                          150 non-null    object\n",
            " 4   jumlah_terdampak_rw         150 non-null    int64 \n",
            " 5   jumlah_terdampak_rt         150 non-null    int64 \n",
            " 6   jumlah_terdampak_kk         150 non-null    int64 \n",
            " 7   jumlah_terdampak_jiwa       150 non-null    int64 \n",
            " 8   ketinggian_air              150 non-null    object\n",
            " 9   tanggal_kejadian            150 non-null    object\n",
            " 10  lama_genangan               150 non-null    int64 \n",
            " 11  jumlah_meninggal            150 non-null    int64 \n",
            " 12  jumlah_hilang               150 non-null    int64 \n",
            " 13  jumlah_luka_berat           150 non-null    int64 \n",
            " 14  jumlah_luka_ringan          150 non-null    int64 \n",
            " 15  jumlah_pengungsi_tertinggi  150 non-null    int64 \n",
            " 16  jumlah_tempat_pengungsian   150 non-null    int64 \n",
            " 17  nilai_kerugian              150 non-null    int64 \n",
            "dtypes: int64(12), object(6)\n",
            "memory usage: 21.2+ KB\n"
          ],
          "name": "stdout"
        }
      ]
    },
    {
      "cell_type": "code",
      "metadata": {
        "colab": {
          "base_uri": "https://localhost:8080/"
        },
        "id": "c_VVwbXGyjAP",
        "outputId": "7b62e75b-2dd2-4660-e733-62f283b7e646"
      },
      "source": [
        "df2=pd.read_csv('/content/Data-Kejadian-Bencana-Banjir-di-Provinsi-DKI-Jakarta-Tahun-2020-Bulan-Februari.csv')\n",
        "df2.info()"
      ],
      "execution_count": 78,
      "outputs": [
        {
          "output_type": "stream",
          "text": [
            "<class 'pandas.core.frame.DataFrame'>\n",
            "RangeIndex: 167 entries, 0 to 166\n",
            "Data columns (total 18 columns):\n",
            " #   Column                      Non-Null Count  Dtype \n",
            "---  ------                      --------------  ----- \n",
            " 0   kota_administrasi           167 non-null    object\n",
            " 1   kecamatan                   167 non-null    object\n",
            " 2   kelurahan                   167 non-null    object\n",
            " 3   rw                          167 non-null    object\n",
            " 4   jumlah_terdampak_rw         167 non-null    int64 \n",
            " 5   jumlah_terdampak_rt         167 non-null    int64 \n",
            " 6   jumlah_terdampak_kk         167 non-null    object\n",
            " 7   jumlah_terdampak_jiwa       167 non-null    int64 \n",
            " 8   ketinggian_air              167 non-null    object\n",
            " 9   tanggal_kejadian            167 non-null    object\n",
            " 10  lama_genangan               167 non-null    int64 \n",
            " 11  jumlah_meninggal            167 non-null    int64 \n",
            " 12  jumlah_hilang               167 non-null    int64 \n",
            " 13  jumlah_luka_berat           167 non-null    int64 \n",
            " 14  jumlah_luka_ringan          167 non-null    int64 \n",
            " 15  jumlah_pengungsi_tertinggi  167 non-null    int64 \n",
            " 16  jumlah_tempat_pengungsian   167 non-null    int64 \n",
            " 17  nilai_kerugian              167 non-null    int64 \n",
            "dtypes: int64(11), object(7)\n",
            "memory usage: 23.6+ KB\n"
          ],
          "name": "stdout"
        }
      ]
    },
    {
      "cell_type": "code",
      "metadata": {
        "colab": {
          "base_uri": "https://localhost:8080/",
          "height": 167
        },
        "id": "NQe8d4L9nKof",
        "outputId": "befa013c-fbbb-4b5a-80cc-54068e49b910"
      },
      "source": [
        "df.head(1)"
      ],
      "execution_count": 84,
      "outputs": [
        {
          "output_type": "execute_result",
          "data": {
            "text/html": [
              "<div>\n",
              "<style scoped>\n",
              "    .dataframe tbody tr th:only-of-type {\n",
              "        vertical-align: middle;\n",
              "    }\n",
              "\n",
              "    .dataframe tbody tr th {\n",
              "        vertical-align: top;\n",
              "    }\n",
              "\n",
              "    .dataframe thead th {\n",
              "        text-align: right;\n",
              "    }\n",
              "</style>\n",
              "<table border=\"1\" class=\"dataframe\">\n",
              "  <thead>\n",
              "    <tr style=\"text-align: right;\">\n",
              "      <th></th>\n",
              "      <th>kota_administrasi</th>\n",
              "      <th>kecamatan</th>\n",
              "      <th>kelurahan</th>\n",
              "      <th>rw</th>\n",
              "      <th>jumlah_terdampak_rw</th>\n",
              "      <th>jumlah_terdampak_rt</th>\n",
              "      <th>jumlah_terdampak_kk</th>\n",
              "      <th>jumlah_terdampak_jiwa</th>\n",
              "      <th>ketinggian_air</th>\n",
              "      <th>tanggal_kejadian</th>\n",
              "      <th>lama_genangan</th>\n",
              "      <th>jumlah_meninggal</th>\n",
              "      <th>jumlah_hilang</th>\n",
              "      <th>jumlah_luka_berat</th>\n",
              "      <th>jumlah_luka_ringan</th>\n",
              "      <th>jumlah_pengungsi_tertinggi</th>\n",
              "      <th>jumlah_tempat_pengungsian</th>\n",
              "      <th>nilai_kerugian</th>\n",
              "    </tr>\n",
              "  </thead>\n",
              "  <tbody>\n",
              "    <tr>\n",
              "      <th>0</th>\n",
              "      <td>Jakarta Pusat</td>\n",
              "      <td>JOHAR BARU</td>\n",
              "      <td>JOHAR BARU</td>\n",
              "      <td>RW 01, 02, 06, 08</td>\n",
              "      <td>4</td>\n",
              "      <td>4</td>\n",
              "      <td>35</td>\n",
              "      <td>140</td>\n",
              "      <td>10 s/d 30 cm</td>\n",
              "      <td>tgl. 01 Januari</td>\n",
              "      <td>0</td>\n",
              "      <td>0</td>\n",
              "      <td>0</td>\n",
              "      <td>0</td>\n",
              "      <td>140</td>\n",
              "      <td>1</td>\n",
              "      <td>0</td>\n",
              "      <td>0</td>\n",
              "    </tr>\n",
              "  </tbody>\n",
              "</table>\n",
              "</div>"
            ],
            "text/plain": [
              "  kota_administrasi   kecamatan  ... jumlah_tempat_pengungsian nilai_kerugian\n",
              "0     Jakarta Pusat  JOHAR BARU  ...                         0              0\n",
              "\n",
              "[1 rows x 18 columns]"
            ]
          },
          "metadata": {
            "tags": []
          },
          "execution_count": 84
        }
      ]
    },
    {
      "cell_type": "code",
      "metadata": {
        "colab": {
          "base_uri": "https://localhost:8080/",
          "height": 134
        },
        "id": "5TrQawZUypt_",
        "outputId": "557a8755-d5dd-444c-f051-d7de55a7449d"
      },
      "source": [
        "df2.head(1)"
      ],
      "execution_count": 85,
      "outputs": [
        {
          "output_type": "execute_result",
          "data": {
            "text/html": [
              "<div>\n",
              "<style scoped>\n",
              "    .dataframe tbody tr th:only-of-type {\n",
              "        vertical-align: middle;\n",
              "    }\n",
              "\n",
              "    .dataframe tbody tr th {\n",
              "        vertical-align: top;\n",
              "    }\n",
              "\n",
              "    .dataframe thead th {\n",
              "        text-align: right;\n",
              "    }\n",
              "</style>\n",
              "<table border=\"1\" class=\"dataframe\">\n",
              "  <thead>\n",
              "    <tr style=\"text-align: right;\">\n",
              "      <th></th>\n",
              "      <th>kota_administrasi</th>\n",
              "      <th>kecamatan</th>\n",
              "      <th>kelurahan</th>\n",
              "      <th>rw</th>\n",
              "      <th>jumlah_terdampak_rw</th>\n",
              "      <th>jumlah_terdampak_rt</th>\n",
              "      <th>jumlah_terdampak_kk</th>\n",
              "      <th>jumlah_terdampak_jiwa</th>\n",
              "      <th>ketinggian_air</th>\n",
              "      <th>tanggal_kejadian</th>\n",
              "      <th>lama_genangan</th>\n",
              "      <th>jumlah_meninggal</th>\n",
              "      <th>jumlah_hilang</th>\n",
              "      <th>jumlah_luka_berat</th>\n",
              "      <th>jumlah_luka_ringan</th>\n",
              "      <th>jumlah_pengungsi_tertinggi</th>\n",
              "      <th>jumlah_tempat_pengungsian</th>\n",
              "      <th>nilai_kerugian</th>\n",
              "    </tr>\n",
              "  </thead>\n",
              "  <tbody>\n",
              "    <tr>\n",
              "      <th>0</th>\n",
              "      <td>Jakarta Pusat</td>\n",
              "      <td>JOHAR BARU</td>\n",
              "      <td>JOHAR BARU</td>\n",
              "      <td>rw 05, 09,</td>\n",
              "      <td>2</td>\n",
              "      <td>2</td>\n",
              "      <td>0</td>\n",
              "      <td>0</td>\n",
              "      <td>30 s/d 50 cm</td>\n",
              "      <td>23, 25  februari</td>\n",
              "      <td>0</td>\n",
              "      <td>0</td>\n",
              "      <td>0</td>\n",
              "      <td>0</td>\n",
              "      <td>0</td>\n",
              "      <td>0</td>\n",
              "      <td>0</td>\n",
              "      <td>0</td>\n",
              "    </tr>\n",
              "  </tbody>\n",
              "</table>\n",
              "</div>"
            ],
            "text/plain": [
              "  kota_administrasi   kecamatan  ... jumlah_tempat_pengungsian nilai_kerugian\n",
              "0     Jakarta Pusat  JOHAR BARU  ...                         0              0\n",
              "\n",
              "[1 rows x 18 columns]"
            ]
          },
          "metadata": {
            "tags": []
          },
          "execution_count": 85
        }
      ]
    },
    {
      "cell_type": "code",
      "metadata": {
        "colab": {
          "base_uri": "https://localhost:8080/",
          "height": 312
        },
        "id": "S6euixoTs2Ds",
        "outputId": "6292d5dc-7121-4c88-b6fe-8fd8a2bc42ae"
      },
      "source": [
        "plt.bar(df['kota_administrasi'],df['jumlah_luka_ringan'],color='aqua', label='Januari 2020')\n",
        "plt.bar(df2['kota_administrasi'],df2['jumlah_luka_ringan'],color='blue',label='Februari 2020')\n",
        "plt.xlabel('januari')\n",
        "plt.legend()\n",
        "plt.title('perbandingan jumlah luka ringan januari dan februari')"
      ],
      "execution_count": 114,
      "outputs": [
        {
          "output_type": "execute_result",
          "data": {
            "text/plain": [
              "Text(0.5, 1.0, 'perbandingan jumlah luka ringan januari dan februari')"
            ]
          },
          "metadata": {
            "tags": []
          },
          "execution_count": 114
        },
        {
          "output_type": "display_data",
          "data": {
            "image/png": "[encoded data removed]",
            "text/plain": [
              "<Figure size 432x288 with 1 Axes>"
            ]
          },
          "metadata": {
            "tags": [],
            "needs_background": "light"
          }
        }
      ]
    },
    {
      "cell_type": "code",
      "metadata": {
        "colab": {
          "base_uri": "https://localhost:8080/"
        },
        "id": "Rw8OEk1CrhjG",
        "outputId": "b0dd4e4e-d657-412a-b8c0-a699cadfcf13"
      },
      "source": [
        "print('Data Terdampak Januari')\n",
        "print('kota terdampak :',df['kota_administrasi'].nunique())\n",
        "print('kecamatan terdampak :',df['kecamatan'].nunique())\n",
        "print('Jumlah rt :',sum(df['jumlah_terdampak_rt']))\n",
        "print('Jumlah rw :',sum(df['jumlah_terdampak_rw']))\n",
        "print('Total Penungsi :',sum(df['jumlah_pengungsi_tertinggi']))\n",
        "\n",
        "print('\\nData Terdampak Februari')\n",
        "print('kota terdampak :',df2['kota_administrasi'].nunique())\n",
        "print('kecamatan terdampak :',df2['kecamatan'].nunique())\n",
        "print('Jumlah rt :',sum(df2['jumlah_terdampak_rt']))\n",
        "print('Jumlah rw :',sum(df2['jumlah_terdampak_rw']))\n",
        "print('Total Penungsi :',sum(df2['jumlah_pengungsi_tertinggi']))"
      ],
      "execution_count": 121,
      "outputs": [
        {
          "output_type": "stream",
          "text": [
            "Data Terdampak Januari\n",
            "kota terdampak : 5\n",
            "kecamatan terdampak : 35\n",
            "Jumlah rt : 1004\n",
            "Jumlah rw : 651\n",
            "Total Penungsi : 476\n",
            "\n",
            "Data Terdampak Februari\n",
            "kota terdampak : 5\n",
            "kecamatan terdampak : 42\n",
            "Jumlah rt : 1094\n",
            "Jumlah rw : 581\n",
            "Total Penungsi : 147\n"
          ],
          "name": "stdout"
        }
      ]
    }
  ]
}