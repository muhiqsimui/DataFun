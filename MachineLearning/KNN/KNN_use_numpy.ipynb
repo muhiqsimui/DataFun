{
  "nbformat": 4,
  "nbformat_minor": 0,
  "metadata": {
    "colab": {
      "name": "KNN use numpy.ipynb",
      "provenance": []
    },
    "kernelspec": {
      "name": "python3",
      "display_name": "Python 3"
    },
    "language_info": {
      "name": "python"
    }
  },
  "cells": [
    {
      "cell_type": "code",
      "metadata": {
        "colab": {
          "base_uri": "https://localhost:8080/"
        },
        "id": "OuwMoD3JC1Ig",
        "outputId": "3e73eade-9eb6-4da4-fd85-b62372a5de33"
      },
      "source": [
        "!wget https://github.com/boedybios/kaggle_explorations/raw/master/Iris_Data_Classification_and_EDA/dataset/iris/Iris.csv"
      ],
      "execution_count": 1,
      "outputs": [
        {
          "output_type": "stream",
          "name": "stdout",
          "text": [
            "--2021-09-28 06:15:59--  https://github.com/boedybios/kaggle_explorations/raw/master/Iris_Data_Classification_and_EDA/dataset/iris/Iris.csv\n",
            "Resolving github.com (github.com)... 140.82.114.3\n",
            "Connecting to github.com (github.com)|140.82.114.3|:443... connected.\n",
            "HTTP request sent, awaiting response... 302 Found\n",
            "Location: https://raw.githubusercontent.com/boedybios/kaggle_explorations/master/Iris_Data_Classification_and_EDA/dataset/iris/Iris.csv [following]\n",
            "--2021-09-28 06:15:59--  https://raw.githubusercontent.com/boedybios/kaggle_explorations/master/Iris_Data_Classification_and_EDA/dataset/iris/Iris.csv\n",
            "Resolving raw.githubusercontent.com (raw.githubusercontent.com)... 185.199.108.133, 185.199.109.133, 185.199.110.133, ...\n",
            "Connecting to raw.githubusercontent.com (raw.githubusercontent.com)|185.199.108.133|:443... connected.\n",
            "HTTP request sent, awaiting response... 200 OK\n",
            "Length: 5107 (5.0K) [text/plain]\n",
            "Saving to: ‘Iris.csv’\n",
            "\n",
            "Iris.csv            100%[===================>]   4.99K  --.-KB/s    in 0s      \n",
            "\n",
            "2021-09-28 06:15:59 (71.0 MB/s) - ‘Iris.csv’ saved [5107/5107]\n",
            "\n"
          ]
        }
      ]
    },
    {
      "cell_type": "code",
      "metadata": {
        "id": "_PiNIn-aC3s9"
      },
      "source": [
        "#mengimport numpy, pandas dan scipy\n",
        "import numpy as np\n",
        "import pandas as pd\n",
        "from scipy import stats"
      ],
      "execution_count": 2,
      "outputs": []
    },
    {
      "cell_type": "code",
      "metadata": {
        "id": "5K5mH5jPC7Ib"
      },
      "source": [
        "#membaca dataset dari file ke pandas dataFrame\n",
        "iris_Dataset = pd.read_csv('/content/Iris.csv',\n",
        "                          delimiter=',', header=0)"
      ],
      "execution_count": 3,
      "outputs": []
    },
    {
      "cell_type": "code",
      "metadata": {
        "colab": {
          "base_uri": "https://localhost:8080/"
        },
        "id": "RcCz-5HOC-yV",
        "outputId": "37a0d567-0ae5-4504-c65b-ad0793c89bc9"
      },
      "source": [
        "iris_Dataset.info()"
      ],
      "execution_count": 5,
      "outputs": [
        {
          "output_type": "stream",
          "name": "stdout",
          "text": [
            "<class 'pandas.core.frame.DataFrame'>\n",
            "RangeIndex: 150 entries, 0 to 149\n",
            "Data columns (total 6 columns):\n",
            " #   Column         Non-Null Count  Dtype  \n",
            "---  ------         --------------  -----  \n",
            " 0   Id             150 non-null    int64  \n",
            " 1   SepalLengthCm  150 non-null    float64\n",
            " 2   SepalWidthCm   150 non-null    float64\n",
            " 3   PetalLengthCm  150 non-null    float64\n",
            " 4   PetalWidthCm   150 non-null    float64\n",
            " 5   Species        150 non-null    object \n",
            "dtypes: float64(4), int64(1), object(1)\n",
            "memory usage: 7.2+ KB\n"
          ]
        }
      ]
    },
    {
      "cell_type": "code",
      "metadata": {
        "colab": {
          "base_uri": "https://localhost:8080/",
          "height": 203
        },
        "id": "VovIStWTC9DE",
        "outputId": "75ea5c8f-9f68-4b09-8865-a75fd5085ff9"
      },
      "source": [
        "iris_Dataset.head()"
      ],
      "execution_count": 4,
      "outputs": [
        {
          "output_type": "execute_result",
          "data": {
            "text/html": [
              "<div>\n",
              "<style scoped>\n",
              "    .dataframe tbody tr th:only-of-type {\n",
              "        vertical-align: middle;\n",
              "    }\n",
              "\n",
              "    .dataframe tbody tr th {\n",
              "        vertical-align: top;\n",
              "    }\n",
              "\n",
              "    .dataframe thead th {\n",
              "        text-align: right;\n",
              "    }\n",
              "</style>\n",
              "<table border=\"1\" class=\"dataframe\">\n",
              "  <thead>\n",
              "    <tr style=\"text-align: right;\">\n",
              "      <th></th>\n",
              "      <th>Id</th>\n",
              "      <th>SepalLengthCm</th>\n",
              "      <th>SepalWidthCm</th>\n",
              "      <th>PetalLengthCm</th>\n",
              "      <th>PetalWidthCm</th>\n",
              "      <th>Species</th>\n",
              "    </tr>\n",
              "  </thead>\n",
              "  <tbody>\n",
              "    <tr>\n",
              "      <th>0</th>\n",
              "      <td>1</td>\n",
              "      <td>5.1</td>\n",
              "      <td>3.5</td>\n",
              "      <td>1.4</td>\n",
              "      <td>0.2</td>\n",
              "      <td>Iris-setosa</td>\n",
              "    </tr>\n",
              "    <tr>\n",
              "      <th>1</th>\n",
              "      <td>2</td>\n",
              "      <td>4.9</td>\n",
              "      <td>3.0</td>\n",
              "      <td>1.4</td>\n",
              "      <td>0.2</td>\n",
              "      <td>Iris-setosa</td>\n",
              "    </tr>\n",
              "    <tr>\n",
              "      <th>2</th>\n",
              "      <td>3</td>\n",
              "      <td>4.7</td>\n",
              "      <td>3.2</td>\n",
              "      <td>1.3</td>\n",
              "      <td>0.2</td>\n",
              "      <td>Iris-setosa</td>\n",
              "    </tr>\n",
              "    <tr>\n",
              "      <th>3</th>\n",
              "      <td>4</td>\n",
              "      <td>4.6</td>\n",
              "      <td>3.1</td>\n",
              "      <td>1.5</td>\n",
              "      <td>0.2</td>\n",
              "      <td>Iris-setosa</td>\n",
              "    </tr>\n",
              "    <tr>\n",
              "      <th>4</th>\n",
              "      <td>5</td>\n",
              "      <td>5.0</td>\n",
              "      <td>3.6</td>\n",
              "      <td>1.4</td>\n",
              "      <td>0.2</td>\n",
              "      <td>Iris-setosa</td>\n",
              "    </tr>\n",
              "  </tbody>\n",
              "</table>\n",
              "</div>"
            ],
            "text/plain": [
              "   Id  SepalLengthCm  SepalWidthCm  PetalLengthCm  PetalWidthCm      Species\n",
              "0   1            5.1           3.5            1.4           0.2  Iris-setosa\n",
              "1   2            4.9           3.0            1.4           0.2  Iris-setosa\n",
              "2   3            4.7           3.2            1.3           0.2  Iris-setosa\n",
              "3   4            4.6           3.1            1.5           0.2  Iris-setosa\n",
              "4   5            5.0           3.6            1.4           0.2  Iris-setosa"
            ]
          },
          "metadata": {},
          "execution_count": 4
        }
      ]
    },
    {
      "cell_type": "code",
      "metadata": {
        "id": "dSg8dV1KDCcr"
      },
      "source": [
        "#mengubah kelas (kolom \"Species\") dari string ke unique-integer\n",
        "iris_Dataset[\"Species\"] = pd.factorize(iris_Dataset.Species)[0]\n",
        "#menghapus kolom \"Id\"\n",
        "iris_Dataset = iris_Dataset.drop(labels=\"Id\", axis=1)"
      ],
      "execution_count": 6,
      "outputs": []
    },
    {
      "cell_type": "code",
      "metadata": {
        "colab": {
          "base_uri": "https://localhost:8080/",
          "height": 203
        },
        "id": "KHddoThHDGD0",
        "outputId": "a86a78a9-7602-4160-ce13-1a389d6a0218"
      },
      "source": [
        "iris_Dataset.head()"
      ],
      "execution_count": 7,
      "outputs": [
        {
          "output_type": "execute_result",
          "data": {
            "text/html": [
              "<div>\n",
              "<style scoped>\n",
              "    .dataframe tbody tr th:only-of-type {\n",
              "        vertical-align: middle;\n",
              "    }\n",
              "\n",
              "    .dataframe tbody tr th {\n",
              "        vertical-align: top;\n",
              "    }\n",
              "\n",
              "    .dataframe thead th {\n",
              "        text-align: right;\n",
              "    }\n",
              "</style>\n",
              "<table border=\"1\" class=\"dataframe\">\n",
              "  <thead>\n",
              "    <tr style=\"text-align: right;\">\n",
              "      <th></th>\n",
              "      <th>SepalLengthCm</th>\n",
              "      <th>SepalWidthCm</th>\n",
              "      <th>PetalLengthCm</th>\n",
              "      <th>PetalWidthCm</th>\n",
              "      <th>Species</th>\n",
              "    </tr>\n",
              "  </thead>\n",
              "  <tbody>\n",
              "    <tr>\n",
              "      <th>0</th>\n",
              "      <td>5.1</td>\n",
              "      <td>3.5</td>\n",
              "      <td>1.4</td>\n",
              "      <td>0.2</td>\n",
              "      <td>0</td>\n",
              "    </tr>\n",
              "    <tr>\n",
              "      <th>1</th>\n",
              "      <td>4.9</td>\n",
              "      <td>3.0</td>\n",
              "      <td>1.4</td>\n",
              "      <td>0.2</td>\n",
              "      <td>0</td>\n",
              "    </tr>\n",
              "    <tr>\n",
              "      <th>2</th>\n",
              "      <td>4.7</td>\n",
              "      <td>3.2</td>\n",
              "      <td>1.3</td>\n",
              "      <td>0.2</td>\n",
              "      <td>0</td>\n",
              "    </tr>\n",
              "    <tr>\n",
              "      <th>3</th>\n",
              "      <td>4.6</td>\n",
              "      <td>3.1</td>\n",
              "      <td>1.5</td>\n",
              "      <td>0.2</td>\n",
              "      <td>0</td>\n",
              "    </tr>\n",
              "    <tr>\n",
              "      <th>4</th>\n",
              "      <td>5.0</td>\n",
              "      <td>3.6</td>\n",
              "      <td>1.4</td>\n",
              "      <td>0.2</td>\n",
              "      <td>0</td>\n",
              "    </tr>\n",
              "  </tbody>\n",
              "</table>\n",
              "</div>"
            ],
            "text/plain": [
              "   SepalLengthCm  SepalWidthCm  PetalLengthCm  PetalWidthCm  Species\n",
              "0            5.1           3.5            1.4           0.2        0\n",
              "1            4.9           3.0            1.4           0.2        0\n",
              "2            4.7           3.2            1.3           0.2        0\n",
              "3            4.6           3.1            1.5           0.2        0\n",
              "4            5.0           3.6            1.4           0.2        0"
            ]
          },
          "metadata": {},
          "execution_count": 7
        }
      ]
    },
    {
      "cell_type": "code",
      "metadata": {
        "id": "eVt8UW9MDb42"
      },
      "source": [
        "att = iris_Dataset[[\"SepalLengthCm\", \"SepalWidthCm\",\"PetalLengthCm\",\"PetalWidthCm\"]].values"
      ],
      "execution_count": 10,
      "outputs": []
    },
    {
      "cell_type": "code",
      "metadata": {
        "id": "t4HVjBYgDHk2"
      },
      "source": [
        "#mengubah dataFrame ke array numpy\n",
        "irisDataset = iris_Dataset.to_numpy()"
      ],
      "execution_count": 12,
      "outputs": []
    },
    {
      "cell_type": "code",
      "metadata": {
        "id": "bcdl7ssLD-EE"
      },
      "source": [
        "#membagi dataset, 40 baris data untuk training\n",
        "#dan 20 baris data untuk testing\n",
        "dataTraining = np.concatenate((irisDataset[0:40,:],\n",
        "                               irisDataset[50:90,:]),axis =0)\n",
        "dataTetsing = np.concatenate((irisDataset[40:50,:],\n",
        "                              irisDataset[90:100,:]),axis=0)"
      ],
      "execution_count": 13,
      "outputs": []
    },
    {
      "cell_type": "code",
      "metadata": {
        "id": "BHJtzSXCEAUI"
      },
      "source": [
        "#memecah dataset ke input dan label\n",
        "inputTraining = dataTraining[:,0:4]\n",
        "inputTesting = dataTetsing[:,0:4]\n",
        "labelTraining = dataTraining[:,4]\n",
        "labelTesting = dataTetsing[:, 4]"
      ],
      "execution_count": 14,
      "outputs": []
    },
    {
      "cell_type": "code",
      "metadata": {
        "id": "T4KLbR9zEEBM"
      },
      "source": [
        "k=3#inputnya nilai k-Nearest Neighborsnya\n",
        "#prediksi data testing menggunakan data training\n",
        "matriks_prediksi_kelas = np.ndarray(shape = (0,1))\n",
        "#mengkasting label ke bentuk matriks\n",
        "labelTraining =np.matrix(labelTraining).T\n",
        "for i in range(0,inputTesting.shape[0]): #loop semua data testing\n",
        "    for j in range(0, inputTraining.shape[0]): #loop semua data training\n",
        "        #hitung jarak euclidean tiap satu data testing\n",
        "        #ke semua data training\n",
        "        euclideanDistance = np.square(np.sum((np.tile(\n",
        "            inputTesting[i,:],\n",
        "            (inputTraining.shape[0],1))-inputTraining)**2, axis=1))\n",
        "        #mencasting ke variabel matriks\n",
        "        #ke semua data training\n",
        "        euclideanDistance=np.matrix(euclideanDistance).T\n",
        "        #menambahkan kolom label ke matriks euclidean\n",
        "        matriksEuclideanDanLabel = np.concatenate((euclideanDistance,labelTraining), axis=1)\n",
        "\n",
        "        #casting ke array dulu untuk disorting\n",
        "        matriksEuclideanDanLabel = np.asarray(matriksEuclideanDanLabel)\n",
        "        #sorting berdasarkan jarak Euclidean\n",
        "        matriksEuclideanDanLabelSorted = matriksEuclideanDanLabel[\n",
        "            matriksEuclideanDanLabel[:, 0].argsort()]\n",
        "        #mengambil k-label kelas dengan jarak euclidean plg kecil\n",
        "        k_label =matriksEuclideanDanLabelSorted[0:k,1]\n",
        "        #prediksi adalah kelas dengan kemunculan terbanyak dari k-label\n",
        "        prediksi_kelas = np.matrix(stats.mode(k_label)[0])\n",
        "    #menggabungkan semua prediksi dalam matriks\n",
        "    matriks_prediksi_kelas=np.concatenate((matriks_prediksi_kelas, \n",
        "                                           prediksi_kelas), axis=0)"
      ],
      "execution_count": 17,
      "outputs": []
    },
    {
      "cell_type": "code",
      "metadata": {
        "colab": {
          "base_uri": "https://localhost:8080/"
        },
        "id": "u4W_ojiXENLR",
        "outputId": "1513e061-461c-436c-82ee-11d5c5da66dd"
      },
      "source": [
        "#menghitung akurasi\n",
        "matriks_prediksi_kelas=matriks_prediksi_kelas.ravel()#flatten ke 1D array\n",
        "prediksiBenar = (matriks_prediksi_kelas == labelTesting).sum()\n",
        "prediksiSalah = (matriks_prediksi_kelas != labelTesting).sum()\n",
        "print(\"prediksi benar: \", prediksiBenar, \"data\")\n",
        "print(\"prediksi salah: \", prediksiSalah, \"data\")\n",
        "print(\"akurasi: \", prediksiBenar/(prediksiBenar+prediksiSalah) * 100, \"%\")"
      ],
      "execution_count": 18,
      "outputs": [
        {
          "output_type": "stream",
          "name": "stdout",
          "text": [
            "prediksi benar:  20 data\n",
            "prediksi salah:  0 data\n",
            "akurasi:  100.0 %\n"
          ]
        }
      ]
    }
  ]
}